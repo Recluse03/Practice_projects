{
 "cells": [
  {
   "cell_type": "code",
   "execution_count": 1,
   "id": "53b004aa",
   "metadata": {},
   "outputs": [],
   "source": [
    "#Importing necessary Libraries\n",
    "\n",
    "import pandas as pd\n",
    "import numpy as np\n",
    "import warnings\n",
    "warnings.filterwarnings('ignore')"
   ]
  },
  {
   "cell_type": "code",
   "execution_count": 2,
   "id": "26717ea5",
   "metadata": {},
   "outputs": [
    {
     "data": {
      "text/html": [
       "<div>\n",
       "<style scoped>\n",
       "    .dataframe tbody tr th:only-of-type {\n",
       "        vertical-align: middle;\n",
       "    }\n",
       "\n",
       "    .dataframe tbody tr th {\n",
       "        vertical-align: top;\n",
       "    }\n",
       "\n",
       "    .dataframe thead th {\n",
       "        text-align: right;\n",
       "    }\n",
       "</style>\n",
       "<table border=\"1\" class=\"dataframe\">\n",
       "  <thead>\n",
       "    <tr style=\"text-align: right;\">\n",
       "      <th></th>\n",
       "      <th>fixed acidity</th>\n",
       "      <th>volatile acidity</th>\n",
       "      <th>citric acid</th>\n",
       "      <th>residual sugar</th>\n",
       "      <th>chlorides</th>\n",
       "      <th>free sulfur dioxide</th>\n",
       "      <th>total sulfur dioxide</th>\n",
       "      <th>density</th>\n",
       "      <th>pH</th>\n",
       "      <th>sulphates</th>\n",
       "      <th>alcohol</th>\n",
       "      <th>quality</th>\n",
       "    </tr>\n",
       "  </thead>\n",
       "  <tbody>\n",
       "    <tr>\n",
       "      <th>0</th>\n",
       "      <td>7.4</td>\n",
       "      <td>0.70</td>\n",
       "      <td>0.00</td>\n",
       "      <td>1.9</td>\n",
       "      <td>0.076</td>\n",
       "      <td>11.0</td>\n",
       "      <td>34.0</td>\n",
       "      <td>0.9978</td>\n",
       "      <td>3.51</td>\n",
       "      <td>0.56</td>\n",
       "      <td>9.4</td>\n",
       "      <td>5</td>\n",
       "    </tr>\n",
       "    <tr>\n",
       "      <th>1</th>\n",
       "      <td>7.8</td>\n",
       "      <td>0.88</td>\n",
       "      <td>0.00</td>\n",
       "      <td>2.6</td>\n",
       "      <td>0.098</td>\n",
       "      <td>25.0</td>\n",
       "      <td>67.0</td>\n",
       "      <td>0.9968</td>\n",
       "      <td>3.20</td>\n",
       "      <td>0.68</td>\n",
       "      <td>9.8</td>\n",
       "      <td>5</td>\n",
       "    </tr>\n",
       "    <tr>\n",
       "      <th>2</th>\n",
       "      <td>7.8</td>\n",
       "      <td>0.76</td>\n",
       "      <td>0.04</td>\n",
       "      <td>2.3</td>\n",
       "      <td>0.092</td>\n",
       "      <td>15.0</td>\n",
       "      <td>54.0</td>\n",
       "      <td>0.9970</td>\n",
       "      <td>3.26</td>\n",
       "      <td>0.65</td>\n",
       "      <td>9.8</td>\n",
       "      <td>5</td>\n",
       "    </tr>\n",
       "    <tr>\n",
       "      <th>3</th>\n",
       "      <td>11.2</td>\n",
       "      <td>0.28</td>\n",
       "      <td>0.56</td>\n",
       "      <td>1.9</td>\n",
       "      <td>0.075</td>\n",
       "      <td>17.0</td>\n",
       "      <td>60.0</td>\n",
       "      <td>0.9980</td>\n",
       "      <td>3.16</td>\n",
       "      <td>0.58</td>\n",
       "      <td>9.8</td>\n",
       "      <td>6</td>\n",
       "    </tr>\n",
       "    <tr>\n",
       "      <th>4</th>\n",
       "      <td>7.4</td>\n",
       "      <td>0.70</td>\n",
       "      <td>0.00</td>\n",
       "      <td>1.9</td>\n",
       "      <td>0.076</td>\n",
       "      <td>11.0</td>\n",
       "      <td>34.0</td>\n",
       "      <td>0.9978</td>\n",
       "      <td>3.51</td>\n",
       "      <td>0.56</td>\n",
       "      <td>9.4</td>\n",
       "      <td>5</td>\n",
       "    </tr>\n",
       "  </tbody>\n",
       "</table>\n",
       "</div>"
      ],
      "text/plain": [
       "   fixed acidity  volatile acidity  citric acid  residual sugar  chlorides  \\\n",
       "0            7.4              0.70         0.00             1.9      0.076   \n",
       "1            7.8              0.88         0.00             2.6      0.098   \n",
       "2            7.8              0.76         0.04             2.3      0.092   \n",
       "3           11.2              0.28         0.56             1.9      0.075   \n",
       "4            7.4              0.70         0.00             1.9      0.076   \n",
       "\n",
       "   free sulfur dioxide  total sulfur dioxide  density    pH  sulphates  \\\n",
       "0                 11.0                  34.0   0.9978  3.51       0.56   \n",
       "1                 25.0                  67.0   0.9968  3.20       0.68   \n",
       "2                 15.0                  54.0   0.9970  3.26       0.65   \n",
       "3                 17.0                  60.0   0.9980  3.16       0.58   \n",
       "4                 11.0                  34.0   0.9978  3.51       0.56   \n",
       "\n",
       "   alcohol  quality  \n",
       "0      9.4        5  \n",
       "1      9.8        5  \n",
       "2      9.8        5  \n",
       "3      9.8        6  \n",
       "4      9.4        5  "
      ]
     },
     "execution_count": 2,
     "metadata": {},
     "output_type": "execute_result"
    }
   ],
   "source": [
    "df = pd.read_csv(\"winequality-red.csv\")\n",
    "df.head()\n",
    "\n",
    "# All data is in form of numbers ,so no encoding required"
   ]
  },
  {
   "cell_type": "code",
   "execution_count": 3,
   "id": "5a6199f7",
   "metadata": {},
   "outputs": [
    {
     "data": {
      "text/plain": [
       "(1599, 12)"
      ]
     },
     "execution_count": 3,
     "metadata": {},
     "output_type": "execute_result"
    }
   ],
   "source": [
    "#For rows and colums check of data set\n",
    "\n",
    "df.shape"
   ]
  },
  {
   "cell_type": "code",
   "execution_count": 4,
   "id": "d62068fb",
   "metadata": {},
   "outputs": [
    {
     "data": {
      "text/plain": [
       "Counter({5: 681, 6: 638, 7: 199, 4: 53, 8: 18, 3: 10})"
      ]
     },
     "execution_count": 4,
     "metadata": {},
     "output_type": "execute_result"
    }
   ],
   "source": [
    "from collections import Counter\n",
    "Counter(df['quality'])\n",
    "#Outcome is multi-class not binary"
   ]
  },
  {
   "cell_type": "code",
   "execution_count": 5,
   "id": "bb79d91e",
   "metadata": {},
   "outputs": [
    {
     "data": {
      "text/plain": [
       "fixed acidity           0\n",
       "volatile acidity        0\n",
       "citric acid             0\n",
       "residual sugar          0\n",
       "chlorides               0\n",
       "free sulfur dioxide     0\n",
       "total sulfur dioxide    0\n",
       "density                 0\n",
       "pH                      0\n",
       "sulphates               0\n",
       "alcohol                 0\n",
       "quality                 0\n",
       "dtype: int64"
      ]
     },
     "execution_count": 5,
     "metadata": {},
     "output_type": "execute_result"
    }
   ],
   "source": [
    "df.isna().sum()\n",
    "#No NAN present"
   ]
  },
  {
   "cell_type": "code",
   "execution_count": 6,
   "id": "4585d0ba",
   "metadata": {},
   "outputs": [
    {
     "name": "stdout",
     "output_type": "stream",
     "text": [
      "<class 'pandas.core.frame.DataFrame'>\n",
      "RangeIndex: 1599 entries, 0 to 1598\n",
      "Data columns (total 12 columns):\n",
      " #   Column                Non-Null Count  Dtype  \n",
      "---  ------                --------------  -----  \n",
      " 0   fixed acidity         1599 non-null   float64\n",
      " 1   volatile acidity      1599 non-null   float64\n",
      " 2   citric acid           1599 non-null   float64\n",
      " 3   residual sugar        1599 non-null   float64\n",
      " 4   chlorides             1599 non-null   float64\n",
      " 5   free sulfur dioxide   1599 non-null   float64\n",
      " 6   total sulfur dioxide  1599 non-null   float64\n",
      " 7   density               1599 non-null   float64\n",
      " 8   pH                    1599 non-null   float64\n",
      " 9   sulphates             1599 non-null   float64\n",
      " 10  alcohol               1599 non-null   float64\n",
      " 11  quality               1599 non-null   int64  \n",
      "dtypes: float64(11), int64(1)\n",
      "memory usage: 150.0 KB\n"
     ]
    }
   ],
   "source": [
    "df.info()\n",
    "#D-type is also satisfactory"
   ]
  },
  {
   "cell_type": "code",
   "execution_count": 7,
   "id": "32669d00",
   "metadata": {},
   "outputs": [
    {
     "data": {
      "text/html": [
       "<div>\n",
       "<style scoped>\n",
       "    .dataframe tbody tr th:only-of-type {\n",
       "        vertical-align: middle;\n",
       "    }\n",
       "\n",
       "    .dataframe tbody tr th {\n",
       "        vertical-align: top;\n",
       "    }\n",
       "\n",
       "    .dataframe thead th {\n",
       "        text-align: right;\n",
       "    }\n",
       "</style>\n",
       "<table border=\"1\" class=\"dataframe\">\n",
       "  <thead>\n",
       "    <tr style=\"text-align: right;\">\n",
       "      <th></th>\n",
       "      <th>fixed acidity</th>\n",
       "      <th>volatile acidity</th>\n",
       "      <th>citric acid</th>\n",
       "      <th>residual sugar</th>\n",
       "      <th>chlorides</th>\n",
       "      <th>free sulfur dioxide</th>\n",
       "      <th>total sulfur dioxide</th>\n",
       "      <th>density</th>\n",
       "      <th>pH</th>\n",
       "      <th>sulphates</th>\n",
       "      <th>alcohol</th>\n",
       "      <th>quality</th>\n",
       "    </tr>\n",
       "  </thead>\n",
       "  <tbody>\n",
       "    <tr>\n",
       "      <th>count</th>\n",
       "      <td>1599.000000</td>\n",
       "      <td>1599.000000</td>\n",
       "      <td>1599.000000</td>\n",
       "      <td>1599.000000</td>\n",
       "      <td>1599.000000</td>\n",
       "      <td>1599.000000</td>\n",
       "      <td>1599.000000</td>\n",
       "      <td>1599.000000</td>\n",
       "      <td>1599.000000</td>\n",
       "      <td>1599.000000</td>\n",
       "      <td>1599.000000</td>\n",
       "      <td>1599.000000</td>\n",
       "    </tr>\n",
       "    <tr>\n",
       "      <th>mean</th>\n",
       "      <td>8.319637</td>\n",
       "      <td>0.527821</td>\n",
       "      <td>0.270976</td>\n",
       "      <td>2.538806</td>\n",
       "      <td>0.087467</td>\n",
       "      <td>15.874922</td>\n",
       "      <td>46.467792</td>\n",
       "      <td>0.996747</td>\n",
       "      <td>3.311113</td>\n",
       "      <td>0.658149</td>\n",
       "      <td>10.422983</td>\n",
       "      <td>5.636023</td>\n",
       "    </tr>\n",
       "    <tr>\n",
       "      <th>std</th>\n",
       "      <td>1.741096</td>\n",
       "      <td>0.179060</td>\n",
       "      <td>0.194801</td>\n",
       "      <td>1.409928</td>\n",
       "      <td>0.047065</td>\n",
       "      <td>10.460157</td>\n",
       "      <td>32.895324</td>\n",
       "      <td>0.001887</td>\n",
       "      <td>0.154386</td>\n",
       "      <td>0.169507</td>\n",
       "      <td>1.065668</td>\n",
       "      <td>0.807569</td>\n",
       "    </tr>\n",
       "    <tr>\n",
       "      <th>min</th>\n",
       "      <td>4.600000</td>\n",
       "      <td>0.120000</td>\n",
       "      <td>0.000000</td>\n",
       "      <td>0.900000</td>\n",
       "      <td>0.012000</td>\n",
       "      <td>1.000000</td>\n",
       "      <td>6.000000</td>\n",
       "      <td>0.990070</td>\n",
       "      <td>2.740000</td>\n",
       "      <td>0.330000</td>\n",
       "      <td>8.400000</td>\n",
       "      <td>3.000000</td>\n",
       "    </tr>\n",
       "    <tr>\n",
       "      <th>25%</th>\n",
       "      <td>7.100000</td>\n",
       "      <td>0.390000</td>\n",
       "      <td>0.090000</td>\n",
       "      <td>1.900000</td>\n",
       "      <td>0.070000</td>\n",
       "      <td>7.000000</td>\n",
       "      <td>22.000000</td>\n",
       "      <td>0.995600</td>\n",
       "      <td>3.210000</td>\n",
       "      <td>0.550000</td>\n",
       "      <td>9.500000</td>\n",
       "      <td>5.000000</td>\n",
       "    </tr>\n",
       "    <tr>\n",
       "      <th>50%</th>\n",
       "      <td>7.900000</td>\n",
       "      <td>0.520000</td>\n",
       "      <td>0.260000</td>\n",
       "      <td>2.200000</td>\n",
       "      <td>0.079000</td>\n",
       "      <td>14.000000</td>\n",
       "      <td>38.000000</td>\n",
       "      <td>0.996750</td>\n",
       "      <td>3.310000</td>\n",
       "      <td>0.620000</td>\n",
       "      <td>10.200000</td>\n",
       "      <td>6.000000</td>\n",
       "    </tr>\n",
       "    <tr>\n",
       "      <th>75%</th>\n",
       "      <td>9.200000</td>\n",
       "      <td>0.640000</td>\n",
       "      <td>0.420000</td>\n",
       "      <td>2.600000</td>\n",
       "      <td>0.090000</td>\n",
       "      <td>21.000000</td>\n",
       "      <td>62.000000</td>\n",
       "      <td>0.997835</td>\n",
       "      <td>3.400000</td>\n",
       "      <td>0.730000</td>\n",
       "      <td>11.100000</td>\n",
       "      <td>6.000000</td>\n",
       "    </tr>\n",
       "    <tr>\n",
       "      <th>max</th>\n",
       "      <td>15.900000</td>\n",
       "      <td>1.580000</td>\n",
       "      <td>1.000000</td>\n",
       "      <td>15.500000</td>\n",
       "      <td>0.611000</td>\n",
       "      <td>72.000000</td>\n",
       "      <td>289.000000</td>\n",
       "      <td>1.003690</td>\n",
       "      <td>4.010000</td>\n",
       "      <td>2.000000</td>\n",
       "      <td>14.900000</td>\n",
       "      <td>8.000000</td>\n",
       "    </tr>\n",
       "  </tbody>\n",
       "</table>\n",
       "</div>"
      ],
      "text/plain": [
       "       fixed acidity  volatile acidity  citric acid  residual sugar  \\\n",
       "count    1599.000000       1599.000000  1599.000000     1599.000000   \n",
       "mean        8.319637          0.527821     0.270976        2.538806   \n",
       "std         1.741096          0.179060     0.194801        1.409928   \n",
       "min         4.600000          0.120000     0.000000        0.900000   \n",
       "25%         7.100000          0.390000     0.090000        1.900000   \n",
       "50%         7.900000          0.520000     0.260000        2.200000   \n",
       "75%         9.200000          0.640000     0.420000        2.600000   \n",
       "max        15.900000          1.580000     1.000000       15.500000   \n",
       "\n",
       "         chlorides  free sulfur dioxide  total sulfur dioxide      density  \\\n",
       "count  1599.000000          1599.000000           1599.000000  1599.000000   \n",
       "mean      0.087467            15.874922             46.467792     0.996747   \n",
       "std       0.047065            10.460157             32.895324     0.001887   \n",
       "min       0.012000             1.000000              6.000000     0.990070   \n",
       "25%       0.070000             7.000000             22.000000     0.995600   \n",
       "50%       0.079000            14.000000             38.000000     0.996750   \n",
       "75%       0.090000            21.000000             62.000000     0.997835   \n",
       "max       0.611000            72.000000            289.000000     1.003690   \n",
       "\n",
       "                pH    sulphates      alcohol      quality  \n",
       "count  1599.000000  1599.000000  1599.000000  1599.000000  \n",
       "mean      3.311113     0.658149    10.422983     5.636023  \n",
       "std       0.154386     0.169507     1.065668     0.807569  \n",
       "min       2.740000     0.330000     8.400000     3.000000  \n",
       "25%       3.210000     0.550000     9.500000     5.000000  \n",
       "50%       3.310000     0.620000    10.200000     6.000000  \n",
       "75%       3.400000     0.730000    11.100000     6.000000  \n",
       "max       4.010000     2.000000    14.900000     8.000000  "
      ]
     },
     "execution_count": 7,
     "metadata": {},
     "output_type": "execute_result"
    }
   ],
   "source": [
    "df.describe()\n",
    "# Here Data is behaving normally,mean,std,,min,max are also looking satisfactory"
   ]
  },
  {
   "cell_type": "code",
   "execution_count": 8,
   "id": "7261ff4c",
   "metadata": {},
   "outputs": [],
   "source": [
    "# Importing necessary Libraries\n",
    "\n",
    "from sklearn.tree import DecisionTreeClassifier\n",
    "from sklearn.model_selection import train_test_split,GridSearchCV\n",
    "from sklearn.preprocessing import StandardScaler\n",
    "from sklearn.metrics import accuracy_score,confusion_matrix,roc_curve,roc_auc_score,classification_report\n",
    "import matplotlib.pyplot as plt\n",
    "import seaborn as sns"
   ]
  },
  {
   "cell_type": "code",
   "execution_count": 9,
   "id": "68148e64",
   "metadata": {},
   "outputs": [
    {
     "data": {
      "text/plain": [
       "<AxesSubplot:>"
      ]
     },
     "execution_count": 9,
     "metadata": {},
     "output_type": "execute_result"
    },
    {
     "data": {
      "image/png": "[encoded data removed]",
      "text/plain": [
       "<Figure size 1152x864 with 2 Axes>"
      ]
     },
     "metadata": {
      "needs_background": "light"
     },
     "output_type": "display_data"
    }
   ],
   "source": [
    "#Features are 12,lets check the multi-collinearity problem wherwe if one feature is dependent on another here if we get this we dont consider the feature after our analysis with target variable (Which is least contributing to our Outcome)\n",
    "df_corr = df.corr().abs()\n",
    "plt.figure(figsize=(16,12))\n",
    "sns.heatmap(df_corr,annot=True)\n",
    "\n",
    "# Here using colored scale on the right side of heatmap enables us to ascertain the level of correllation, here this mirror like colors according to their density and lightness as in correlation with scale representing the values on both sides(i.e. Highest correlation=1)"
   ]
  },
  {
   "cell_type": "markdown",
   "id": "476b6c97",
   "metadata": {},
   "source": [
    "# Their is no multi-collinearity problem all features are important(my assump of threshold is 80%)\n"
   ]
  },
  {
   "cell_type": "markdown",
   "id": "9e0db281",
   "metadata": {},
   "source": [
    "# We are not Standardizing the data as Decision tree will take care of this\n"
   ]
  },
  {
   "cell_type": "code",
   "execution_count": 10,
   "id": "c40e40fc",
   "metadata": {},
   "outputs": [],
   "source": [
    "#Seprating features and label for train_test_split \n",
    "\n",
    "x = df.drop(columns=['quality'])\n",
    "y = df['quality']"
   ]
  },
  {
   "cell_type": "code",
   "execution_count": 11,
   "id": "3a06c456",
   "metadata": {},
   "outputs": [],
   "source": [
    "#Applying train-test_split where test_size has been taken 0.25(test_size) and random state for random selection of data for trying to reduce level of biasness\n",
    "x_train,x_test,y_train,y_test=train_test_split(x,y,test_size=0.25,random_state=21)"
   ]
  },
  {
   "cell_type": "code",
   "execution_count": 12,
   "id": "e5b6b47a",
   "metadata": {},
   "outputs": [],
   "source": [
    "# Writing a function to ascertain score here it is directly correlated to Time-Saving\n",
    "\n",
    "def metric_score(clf,x_train,x_test,y_train,y_test,train=True):\n",
    "    if train:\n",
    "        y_pred=clf.predict(x_train)\n",
    "        print(\"\\n==========Train Result==============\")\n",
    "        print(f\"Accuracy score:{accuracy_score(y_train,y_pred)*100:.2f}%\")\n",
    "    \n",
    "    elif train==False:\n",
    "        pred=clf.predict(x_test)\n",
    "        print(\"\\n=====Test Result=======\")\n",
    "        print(f\"Accuracy score:{accuracy_score(y_test,pred)*100:.2f}%\")\n",
    "        print(\"\\nClassification Report\",\"\\n\", classification_report(y_test,pred))\n",
    "\n",
    "    "
   ]
  },
  {
   "cell_type": "code",
   "execution_count": 13,
   "id": "9279f82b",
   "metadata": {},
   "outputs": [],
   "source": [
    "#Creating a object for our M.L. Algorithm i.e. D_tree\n",
    "D_tree = DecisionTreeClassifier()"
   ]
  },
  {
   "cell_type": "code",
   "execution_count": 14,
   "id": "428fbef6",
   "metadata": {},
   "outputs": [
    {
     "data": {
      "text/plain": [
       "DecisionTreeClassifier()"
      ]
     },
     "execution_count": 14,
     "metadata": {},
     "output_type": "execute_result"
    }
   ],
   "source": [
    "#Creating a object for our M.L. Algorithm i.e. D_tree\n",
    "D_tree.fit(x_train,y_train)"
   ]
  },
  {
   "cell_type": "code",
   "execution_count": 15,
   "id": "a14b36f4",
   "metadata": {},
   "outputs": [
    {
     "name": "stdout",
     "output_type": "stream",
     "text": [
      "\n",
      "==========Train Result==============\n",
      "Accuracy score:100.00%\n",
      "\n",
      "=====Test Result=======\n",
      "Accuracy score:58.75%\n",
      "\n",
      "Classification Report \n",
      "               precision    recall  f1-score   support\n",
      "\n",
      "           3       0.00      0.00      0.00         2\n",
      "           4       0.20      0.12      0.15        17\n",
      "           5       0.66      0.66      0.66       158\n",
      "           6       0.60      0.57      0.59       167\n",
      "           7       0.52      0.57      0.54        53\n",
      "           8       0.20      0.67      0.31         3\n",
      "\n",
      "    accuracy                           0.59       400\n",
      "   macro avg       0.36      0.43      0.37       400\n",
      "weighted avg       0.59      0.59      0.59       400\n",
      "\n"
     ]
    }
   ],
   "source": [
    "#Model has learnt now let's call the function for results\n",
    "#Calling the function ,where classifier i.e. clf(Algo used) is DecisionTreeClassifier taken in object-D_tree\n",
    "metric_score(D_tree,x_train,x_test,y_train,y_test,train=True)\n",
    "metric_score(D_tree,x_train,x_test,y_train,y_test,train=False)"
   ]
  },
  {
   "cell_type": "code",
   "execution_count": 16,
   "id": "cef3a3bf",
   "metadata": {},
   "outputs": [],
   "source": [
    "#We got very less F1 Score and as per nature of Decision Tree algorithm is known to overfit as it is a rule based algorithm\n",
    "#Lets try and increase our Accuracy using Hyperparameter tuning using Grid Search CV, here we will tune the parameters to increase our model accuracy\n",
    "# Parameters with maximum impact is taken in grid_param where gini and entropy are the methods of Decision Tree and rest all belongs to Tree which it makes behind the scene\n",
    "\n",
    "grid_param = {'criterion':['gini','entropy'],\n",
    "             'max_depth':range(10,15),\n",
    "             'min_samples_leaf':range(2,6),\n",
    "             'min_samples_split':range(3,8),\n",
    "             'max_leaf_nodes':range(5,10)}\n",
    "\n",
    "#By default it gives Gini method as entropy has log transformation which takes more time and here we are concerned in improving accuracy ,hence we need the best method"
   ]
  },
  {
   "cell_type": "code",
   "execution_count": 17,
   "id": "a04b49bc",
   "metadata": {},
   "outputs": [],
   "source": [
    "#Here creating Object to use GridSearchCV with telling the algorithm in form of estimator and giving param_grid in form of object grid_param\n",
    "gridsearch = GridSearchCV(estimator=D_tree,param_grid=grid_param)"
   ]
  },
  {
   "cell_type": "code",
   "execution_count": 18,
   "id": "4792c7e0",
   "metadata": {},
   "outputs": [
    {
     "data": {
      "text/plain": [
       "GridSearchCV(estimator=DecisionTreeClassifier(),\n",
       "             param_grid={'criterion': ['gini', 'entropy'],\n",
       "                         'max_depth': range(10, 15),\n",
       "                         'max_leaf_nodes': range(5, 10),\n",
       "                         'min_samples_leaf': range(2, 6),\n",
       "                         'min_samples_split': range(3, 8)})"
      ]
     },
     "execution_count": 18,
     "metadata": {},
     "output_type": "execute_result"
    }
   ],
   "source": [
    "#Here we are training through GridSearchCV to get the best parameters from above mentioned object i.e.(grid_param)\n",
    "gridsearch.fit(x_train,y_train)"
   ]
  },
  {
   "cell_type": "code",
   "execution_count": 19,
   "id": "d88613f4",
   "metadata": {},
   "outputs": [
    {
     "data": {
      "text/plain": [
       "{'criterion': 'entropy',\n",
       " 'max_depth': 10,\n",
       " 'max_leaf_nodes': 9,\n",
       " 'min_samples_leaf': 2,\n",
       " 'min_samples_split': 3}"
      ]
     },
     "execution_count": 19,
     "metadata": {},
     "output_type": "execute_result"
    }
   ],
   "source": [
    "#The Best parameters printing using best_params_ method\n",
    "best_parameters = gridsearch.best_params_\n",
    "best_parameters"
   ]
  },
  {
   "cell_type": "code",
   "execution_count": 20,
   "id": "20217104",
   "metadata": {},
   "outputs": [
    {
     "data": {
      "text/plain": [
       "DecisionTreeClassifier(criterion='entropy', max_depth=10, max_leaf_nodes=9,\n",
       "                       min_samples_leaf=2, min_samples_split=3)"
      ]
     },
     "execution_count": 20,
     "metadata": {},
     "output_type": "execute_result"
    }
   ],
   "source": [
    "#Initiating DecisionTreeClassifier with best parameters\n",
    "clf = DecisionTreeClassifier(criterion='entropy',max_depth=10,max_leaf_nodes=9, min_samples_split=3,min_samples_leaf=2)\n",
    "clf.fit(x_train,y_train)"
   ]
  },
  {
   "cell_type": "code",
   "execution_count": 21,
   "id": "4ab0a057",
   "metadata": {},
   "outputs": [
    {
     "name": "stdout",
     "output_type": "stream",
     "text": [
      "\n",
      "==========Train Result==============\n",
      "Accuracy score:58.88%\n",
      "\n",
      "=====Test Result=======\n",
      "Accuracy score:58.75%\n",
      "\n",
      "Classification Report \n",
      "               precision    recall  f1-score   support\n",
      "\n",
      "           3       0.00      0.00      0.00         2\n",
      "           4       0.00      0.00      0.00        17\n",
      "           5       0.62      0.77      0.69       158\n",
      "           6       0.55      0.54      0.55       167\n",
      "           7       0.56      0.42      0.48        53\n",
      "           8       0.00      0.00      0.00         3\n",
      "\n",
      "    accuracy                           0.59       400\n",
      "   macro avg       0.29      0.29      0.29       400\n",
      "weighted avg       0.55      0.59      0.56       400\n",
      "\n"
     ]
    }
   ],
   "source": [
    "#DecisionTreeClassifier score after Hyperparameter tuning\n",
    "\n",
    "metric_score(clf,x_train,x_test,y_train,y_test,train=True)\n",
    "metric_score(clf,x_train,x_test,y_train,y_test,train=False)"
   ]
  },
  {
   "cell_type": "code",
   "execution_count": 22,
   "id": "64b2be96",
   "metadata": {},
   "outputs": [
    {
     "data": {
      "text/plain": [
       "KNeighborsClassifier()"
      ]
     },
     "execution_count": 22,
     "metadata": {},
     "output_type": "execute_result"
    }
   ],
   "source": [
    "from sklearn.neighbors import KNeighborsClassifier\n",
    "KNN = KNeighborsClassifier()\n",
    "KNN.fit(x_train,y_train)"
   ]
  },
  {
   "cell_type": "code",
   "execution_count": 23,
   "id": "ce11a085",
   "metadata": {},
   "outputs": [],
   "source": [
    "#For KNN algorithm\n",
    "\n",
    "def metric_score(clf,x_train,x_test,y_train,y_test,train=True):\n",
    "    if train:\n",
    "        y_pred=clf.predict(x_train)\n",
    "        print(\"\\n==========Train Result==============\")\n",
    "        print(f\"Accuracy score:{accuracy_score(y_train,y_pred)*100:.2f}%\")\n",
    "    \n",
    "    elif train==False:\n",
    "        pred=clf.predict(x_test)\n",
    "        print(\"\\n=====Test Result=======\")\n",
    "        print(f\"Accuracy score:{accuracy_score(y_test,pred)*100:.2f}%\")\n",
    "        print(\"\\nClassification Report\",\"\\n\",classification_report(y_test,pred))\n"
   ]
  },
  {
   "cell_type": "code",
   "execution_count": 24,
   "id": "8966cd0c",
   "metadata": {},
   "outputs": [
    {
     "name": "stdout",
     "output_type": "stream",
     "text": [
      "\n",
      "==========Train Result==============\n",
      "Accuracy score:64.39%\n",
      "\n",
      "=====Test Result=======\n",
      "Accuracy score:49.00%\n",
      "\n",
      "Classification Report \n",
      "               precision    recall  f1-score   support\n",
      "\n",
      "           3       0.00      0.00      0.00         2\n",
      "           4       0.25      0.06      0.10        17\n",
      "           5       0.50      0.60      0.55       158\n",
      "           6       0.48      0.50      0.49       167\n",
      "           7       0.53      0.32      0.40        53\n",
      "           8       0.00      0.00      0.00         3\n",
      "\n",
      "    accuracy                           0.49       400\n",
      "   macro avg       0.29      0.25      0.25       400\n",
      "weighted avg       0.48      0.49      0.48       400\n",
      "\n"
     ]
    }
   ],
   "source": [
    "#Training and testing score with accuracy Score using KNN\n",
    "metric_score(KNN,x_train,x_test,y_train,y_test,train=True)\n",
    "metric_score(KNN,x_train,x_test,y_train,y_test,train=False)"
   ]
  },
  {
   "cell_type": "code",
   "execution_count": 25,
   "id": "2e5f9bfa",
   "metadata": {},
   "outputs": [
    {
     "data": {
      "text/plain": [
       "RandomForestClassifier()"
      ]
     },
     "execution_count": 25,
     "metadata": {},
     "output_type": "execute_result"
    }
   ],
   "source": [
    "#Importing RandomForestClassifier ML algorithm for comparative analysis\n",
    "from sklearn.ensemble import RandomForestClassifier\n",
    "RF = RandomForestClassifier()\n",
    "RF.fit(x_train,y_train)"
   ]
  },
  {
   "cell_type": "code",
   "execution_count": 26,
   "id": "5ad97d08",
   "metadata": {},
   "outputs": [],
   "source": [
    "#Defining the function forRandomForestClassifier\n",
    "def metric_score(clf,x_train,x_test,y_train,y_test,train=True):\n",
    "    if train:\n",
    "        y_pred=clf.predict(x_train)\n",
    "        print(\"\\n==========Train Result==============\")\n",
    "        print(f\"Accuracy score:{accuracy_score(y_train,y_pred)*100:.2f}%\")\n",
    "    \n",
    "    elif train==False:\n",
    "        pred=clf.predict(x_test)\n",
    "        print(\"\\n=====Test Result=======\")\n",
    "        print(f\"Accuracy score:{accuracy_score(y_test,pred)*100:.2f}%\")\n",
    "        print(\"\\nClassification Report\",\"\\n\",classification_report(y_test,pred))"
   ]
  },
  {
   "cell_type": "code",
   "execution_count": 27,
   "id": "52b28a95",
   "metadata": {},
   "outputs": [
    {
     "name": "stdout",
     "output_type": "stream",
     "text": [
      "\n",
      "==========Train Result==============\n",
      "Accuracy score:100.00%\n",
      "\n",
      "=====Test Result=======\n",
      "Accuracy score:68.00%\n",
      "\n",
      "Classification Report \n",
      "               precision    recall  f1-score   support\n",
      "\n",
      "           3       0.00      0.00      0.00         2\n",
      "           4       0.00      0.00      0.00        17\n",
      "           5       0.70      0.82      0.75       158\n",
      "           6       0.67      0.68      0.68       167\n",
      "           7       0.65      0.53      0.58        53\n",
      "           8       0.50      0.33      0.40         3\n",
      "\n",
      "    accuracy                           0.68       400\n",
      "   macro avg       0.42      0.39      0.40       400\n",
      "weighted avg       0.65      0.68      0.66       400\n",
      "\n"
     ]
    }
   ],
   "source": [
    "#Calling the function using RandomForest as clf\n",
    "metric_score(RF,x_train,x_test,y_train,y_test,train=True)\n",
    "metric_score(RF,x_train,x_test,y_train,y_test,train=False)"
   ]
  },
  {
   "cell_type": "code",
   "execution_count": 28,
   "id": "13c0f943",
   "metadata": {},
   "outputs": [],
   "source": [
    "#Score of ROC AUC\n",
    "\n",
    "x = df.drop(columns=['quality'],axis=1)\n",
    "y = df['quality']"
   ]
  },
  {
   "cell_type": "code",
   "execution_count": 29,
   "id": "30652860",
   "metadata": {},
   "outputs": [],
   "source": [
    "#Train Test split\n",
    "x_train,x_test,y_train,y_test=train_test_split(x,y,test_size=0.25,random_state=41)"
   ]
  },
  {
   "cell_type": "code",
   "execution_count": 30,
   "id": "49c19467",
   "metadata": {},
   "outputs": [
    {
     "name": "stdout",
     "output_type": "stream",
     "text": [
      "All models are successfully Trained\n"
     ]
    }
   ],
   "source": [
    "#Training with all Classifiers\n",
    "\n",
    "D_tree.fit(x_train,y_train)\n",
    "KNN.fit(x_train,y_train)\n",
    "RF.fit(x_train,y_train)\n",
    "print(\"All models are successfully Trained\")"
   ]
  },
  {
   "cell_type": "code",
   "execution_count": 31,
   "id": "18627022",
   "metadata": {},
   "outputs": [
    {
     "name": "stdout",
     "output_type": "stream",
     "text": [
      "All models scores are captured\n"
     ]
    }
   ],
   "source": [
    "#Capturing all models score\n",
    "\n",
    "Decision_tree_auc_score=D_tree.score(x_test,y_test)\n",
    "Random_forest_auc_score=RF.score(x_test,y_test)\n",
    "KNeighbors_auc_score=KNN.score(x_test,y_test)\n",
    "\n",
    "print(\"All models scores are captured\")"
   ]
  },
  {
   "cell_type": "code",
   "execution_count": 32,
   "id": "3ce7d7b1",
   "metadata": {},
   "outputs": [
    {
     "name": "stdout",
     "output_type": "stream",
     "text": [
      "DecisionTreeClassifier auc_score is ======== 0.6225\n",
      "RandomForestClassisfier auc_score is ======= 0.6975\n",
      "KNeighborsClassifier auc_score is ========== 0.445\n"
     ]
    }
   ],
   "source": [
    "print('DecisionTreeClassifier auc_score is ========',Decision_tree_auc_score)\n",
    "print('RandomForestClassisfier auc_score is =======',Random_forest_auc_score)\n",
    "print('KNeighborsClassifier auc_score is ==========',KNeighbors_auc_score)"
   ]
  },
  {
   "cell_type": "code",
   "execution_count": 33,
   "id": "ad9d752a",
   "metadata": {},
   "outputs": [],
   "source": [
    "#Here we can clearly see that Decision Tree Classifier Score is giving the clarity in Training_Testing Score and even after Hyperparameter Tuning\n",
    "#Score of Decision Tree Classifier is acceptable."
   ]
  },
  {
   "cell_type": "code",
   "execution_count": 34,
   "id": "3e913d72",
   "metadata": {},
   "outputs": [],
   "source": []
  },
  {
   "cell_type": "code",
   "execution_count": null,
   "id": "b1d728b7",
   "metadata": {},
   "outputs": [],
   "source": []
  }
 ],
 "metadata": {
  "kernelspec": {
   "display_name": "Python 3 (ipykernel)",
   "language": "python",
   "name": "python3"
  },
  "language_info": {
   "codemirror_mode": {
    "name": "ipython",
    "version": 3
   },
   "file_extension": ".py",
   "mimetype": "text/x-python",
   "name": "python",
   "nbconvert_exporter": "python",
   "pygments_lexer": "ipython3",
   "version": "3.9.12"
  }
 },
 "nbformat": 4,
 "nbformat_minor": 5
}
